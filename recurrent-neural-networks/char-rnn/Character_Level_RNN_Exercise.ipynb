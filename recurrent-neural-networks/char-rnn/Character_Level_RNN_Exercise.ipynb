{
  "nbformat": 4,
  "nbformat_minor": 0,
  "metadata": {
    "kernelspec": {
      "display_name": "Python [default]",
      "language": "python",
      "name": "python3"
    },
    "language_info": {
      "codemirror_mode": {
        "name": "ipython",
        "version": 3
      },
      "file_extension": ".py",
      "mimetype": "text/x-python",
      "name": "python",
      "nbconvert_exporter": "python",
      "pygments_lexer": "ipython3",
      "version": "3.6.4"
    },
    "colab": {
      "name": "Character_Level_RNN_Exercise.ipynb",
      "provenance": [],
      "include_colab_link": true
    },
    "accelerator": "GPU"
  },
  "cells": [
    {
      "cell_type": "markdown",
      "metadata": {
        "id": "view-in-github",
        "colab_type": "text"
      },
      "source": [
        "<a href=\"https://colab.research.google.com/github/krteja44/Deep_Learning_with_PyTorch/blob/master/recurrent-neural-networks/char-rnn/Character_Level_RNN_Exercise.ipynb\" target=\"_parent\"><img src=\"https://colab.research.google.com/assets/colab-badge.svg\" alt=\"Open In Colab\"/></a>"
      ]
    },
    {
      "cell_type": "markdown",
      "metadata": {
        "id": "RSU6P5jY-MTM",
        "colab_type": "text"
      },
      "source": [
        "# Character-Level LSTM in PyTorch\n",
        "\n",
        "In this notebook, I'll construct a character-level LSTM with PyTorch. The network will train character by character on some text, then generate new text character by character. As an example, I will train on Anna Karenina. **This model will be able to generate new text based on the text from the book!**\n",
        "\n",
        "This network is based off of Andrej Karpathy's [post on RNNs](http://karpathy.github.io/2015/05/21/rnn-effectiveness/) and [implementation in Torch](https://github.com/karpathy/char-rnn). Below is the general architecture of the character-wise RNN.\n",
        "\n",
        "<img src=\"https://github.com/krteja44/Deep_Learning_with_PyTorch/blob/master/recurrent-neural-networks/char-rnn/assets/charseq.jpeg?raw=1\" width=\"500\">"
      ]
    },
    {
      "cell_type": "markdown",
      "metadata": {
        "id": "L5Any39b-MTN",
        "colab_type": "text"
      },
      "source": [
        "First let's load in our required resources for data loading and model creation."
      ]
    },
    {
      "cell_type": "code",
      "metadata": {
        "id": "z2o1sMPp-MTO",
        "colab_type": "code",
        "colab": {}
      },
      "source": [
        "import numpy as np\n",
        "import torch\n",
        "from torch import nn\n",
        "import torch.nn.functional as F"
      ],
      "execution_count": 1,
      "outputs": []
    },
    {
      "cell_type": "markdown",
      "metadata": {
        "id": "jUFuWH5B-MTR",
        "colab_type": "text"
      },
      "source": [
        "## Load in Data\n",
        "\n",
        "Then, we'll load the Anna Karenina text file and convert it into integers for our network to use. "
      ]
    },
    {
      "cell_type": "code",
      "metadata": {
        "id": "xtFX2KgS-MTS",
        "colab_type": "code",
        "colab": {}
      },
      "source": [
        "# open text file and read in data as `text`\n",
        "with open('/content/anna.txt', 'r') as f:\n",
        "    text = f.read()"
      ],
      "execution_count": 2,
      "outputs": []
    },
    {
      "cell_type": "markdown",
      "metadata": {
        "id": "8aJyiloD-MTU",
        "colab_type": "text"
      },
      "source": [
        "Let's check out the first 100 characters, make sure everything is peachy. According to the [American Book Review](http://americanbookreview.org/100bestlines.asp), this is the 6th best first line of a book ever."
      ]
    },
    {
      "cell_type": "code",
      "metadata": {
        "id": "C41LA-5T-MTU",
        "colab_type": "code",
        "colab": {
          "base_uri": "https://localhost:8080/",
          "height": 35
        },
        "outputId": "4dbb2c27-67bb-4718-daec-294333cc4821"
      },
      "source": [
        "text[:100]"
      ],
      "execution_count": 3,
      "outputs": [
        {
          "output_type": "execute_result",
          "data": {
            "application/vnd.google.colaboratory.intrinsic+json": {
              "type": "string"
            },
            "text/plain": [
              "'Chapter 1\\n\\n\\nHappy families are all alike; every unhappy family is unhappy in its own\\nway.\\n\\nEverythin'"
            ]
          },
          "metadata": {
            "tags": []
          },
          "execution_count": 3
        }
      ]
    },
    {
      "cell_type": "markdown",
      "metadata": {
        "id": "oA1MB2kJ-MTX",
        "colab_type": "text"
      },
      "source": [
        "### Tokenization\n",
        "\n",
        "In the cells, below, I'm creating a couple **dictionaries** to convert the characters to and from integers. Encoding the characters as integers makes it easier to use as input in the network."
      ]
    },
    {
      "cell_type": "code",
      "metadata": {
        "id": "HNN8rmXx-MTX",
        "colab_type": "code",
        "colab": {}
      },
      "source": [
        "# encode the text and map each character to an integer and vice versa\n",
        "\n",
        "# we create two dictionaaries:\n",
        "# 1. int2char, which maps integers to characters\n",
        "# 2. char2int, which maps characters to unique integers\n",
        "chars = tuple(set(text))\n",
        "int2char = dict(enumerate(chars))\n",
        "char2int = {ch: ii for ii, ch in int2char.items()}\n",
        "\n",
        "# encode the text\n",
        "encoded = np.array([char2int[ch] for ch in text])"
      ],
      "execution_count": 4,
      "outputs": []
    },
    {
      "cell_type": "markdown",
      "metadata": {
        "id": "C0ljROL7-MTZ",
        "colab_type": "text"
      },
      "source": [
        "And we can see those same characters from above, encoded as integers."
      ]
    },
    {
      "cell_type": "code",
      "metadata": {
        "id": "xcmintE2-MTa",
        "colab_type": "code",
        "colab": {
          "base_uri": "https://localhost:8080/",
          "height": 124
        },
        "outputId": "46650822-2d06-422a-bcdf-533d0459a7ca"
      },
      "source": [
        "encoded[:100]"
      ],
      "execution_count": 5,
      "outputs": [
        {
          "output_type": "execute_result",
          "data": {
            "text/plain": [
              "array([73, 58,  1, 11, 10, 33, 57, 62, 67, 55, 55, 55, 21,  1, 11, 11, 41,\n",
              "       62, 81,  1, 17, 12, 72, 12, 33,  0, 62,  1, 57, 33, 62,  1, 72, 72,\n",
              "       62,  1, 72, 12, 53, 33, 51, 62, 33, 77, 33, 57, 41, 62, 52, 47, 58,\n",
              "        1, 11, 11, 41, 62, 81,  1, 17, 12, 72, 41, 62, 12,  0, 62, 52, 47,\n",
              "       58,  1, 11, 11, 41, 62, 12, 47, 62, 12, 10,  0, 62, 32, 60, 47, 55,\n",
              "       60,  1, 41, 23, 55, 55, 36, 77, 33, 57, 41, 10, 58, 12, 47])"
            ]
          },
          "metadata": {
            "tags": []
          },
          "execution_count": 5
        }
      ]
    },
    {
      "cell_type": "markdown",
      "metadata": {
        "id": "tQIOIL0O-MTc",
        "colab_type": "text"
      },
      "source": [
        "## Pre-processing the data\n",
        "\n",
        "As you can see in our char-RNN image above, our LSTM expects an input that is **one-hot encoded** meaning that each character is converted into an integer (via our created dictionary) and *then* converted into a column vector where only it's corresponding integer index will have the value of 1 and the rest of the vector will be filled with 0's. Since we're one-hot encoding the data, let's make a function to do that!\n"
      ]
    },
    {
      "cell_type": "code",
      "metadata": {
        "id": "rb0afUAV-MTc",
        "colab_type": "code",
        "colab": {}
      },
      "source": [
        "def one_hot_encode(arr, n_labels):\n",
        "    \n",
        "    # Initialize the the encoded array\n",
        "    one_hot = np.zeros((arr.size, n_labels), dtype=np.float32)\n",
        "    \n",
        "    # Fill the appropriate elements with ones\n",
        "    one_hot[np.arange(one_hot.shape[0]), arr.flatten()] = 1.\n",
        "    \n",
        "    # Finally reshape it to get back to the original array\n",
        "    one_hot = one_hot.reshape((*arr.shape, n_labels))\n",
        "    \n",
        "    return one_hot"
      ],
      "execution_count": 6,
      "outputs": []
    },
    {
      "cell_type": "code",
      "metadata": {
        "id": "mrB-hhO5-MTg",
        "colab_type": "code",
        "colab": {
          "base_uri": "https://localhost:8080/",
          "height": 70
        },
        "outputId": "2a3353d5-dffb-47ca-f040-914b0057bc48"
      },
      "source": [
        "# check that the function works as expected\n",
        "test_seq = np.array([[3, 5, 1]])\n",
        "one_hot = one_hot_encode(test_seq, 8)\n",
        "\n",
        "print(one_hot)"
      ],
      "execution_count": 7,
      "outputs": [
        {
          "output_type": "stream",
          "text": [
            "[[[0. 0. 0. 1. 0. 0. 0. 0.]\n",
            "  [0. 0. 0. 0. 0. 1. 0. 0.]\n",
            "  [0. 1. 0. 0. 0. 0. 0. 0.]]]\n"
          ],
          "name": "stdout"
        }
      ]
    },
    {
      "cell_type": "code",
      "metadata": {
        "id": "xLWAC700BkmO",
        "colab_type": "code",
        "colab": {}
      },
      "source": [
        "#test_seq = np.array([[3, 5, 1]])\n",
        "#test_seq.size\n",
        "#one_hot=np.zeros((test_seq.size, 8), dtype=np.float32)\n",
        "#one_hot[np.arange(one_hot.shape[0]), test_seq.flatten()] = 1.\n",
        "#one_hot\n",
        "#one_hot.shape"
      ],
      "execution_count": 8,
      "outputs": []
    },
    {
      "cell_type": "markdown",
      "metadata": {
        "id": "cv9xqZyr-MTk",
        "colab_type": "text"
      },
      "source": [
        "## Making training mini-batches\n",
        "\n",
        "\n",
        "To train on this data, we also want to create mini-batches for training. Remember that we want our batches to be multiple sequences of some desired number of sequence steps. Considering a simple example, our batches would look like this:\n",
        "\n",
        "<img src=\"https://github.com/krteja44/Deep_Learning_with_PyTorch/blob/master/recurrent-neural-networks/char-rnn/assets/sequence_batching@1x.png?raw=1\" width=500px>\n",
        "\n",
        "\n",
        "<br>\n",
        "\n",
        "In this example, we'll take the encoded characters (passed in as the `arr` parameter) and split them into multiple sequences, given by `batch_size`. Each of our sequences will be `seq_length` long.\n",
        "\n",
        "### Creating Batches\n",
        "\n",
        "**1. The first thing we need to do is discard some of the text so we only have completely full mini-batches. **\n",
        "\n",
        "Each batch contains $N \\times M$ characters, where $N$ is the batch size (the number of sequences in a batch) and $M$ is the seq_length or number of time steps in a sequence. Then, to get the total number of batches, $K$, that we can make from the array `arr`, you divide the length of `arr` by the number of characters per batch. Once you know the number of batches, you can get the total number of characters to keep from `arr`, $N * M * K$.\n",
        "\n",
        "**2. After that, we need to split `arr` into $N$ batches. ** \n",
        "\n",
        "You can do this using `arr.reshape(size)` where `size` is a tuple containing the dimensions sizes of the reshaped array. We know we want $N$ sequences in a batch, so let's make that the size of the first dimension. For the second dimension, you can use `-1` as a placeholder in the size, it'll fill up the array with the appropriate data for you. After this, you should have an array that is $N \\times (M * K)$.\n",
        "\n",
        "**3. Now that we have this array, we can iterate through it to get our mini-batches. **\n",
        "\n",
        "The idea is each batch is a $N \\times M$ window on the $N \\times (M * K)$ array. For each subsequent batch, the window moves over by `seq_length`. We also want to create both the input and target arrays. Remember that the targets are just the inputs shifted over by one character. The way I like to do this window is use `range` to take steps of size `n_steps` from $0$ to `arr.shape[1]`, the total number of tokens in each sequence. That way, the integers you get from `range` always point to the start of a batch, and each window is `seq_length` wide.\n",
        "\n",
        "> **TODO:** Write the code for creating batches in the function below. The exercises in this notebook _will not be easy_. I've provided a notebook with solutions alongside this notebook. If you get stuck, checkout the solutions. The most important thing is that you don't copy and paste the code into here, **type out the solution code yourself.**"
      ]
    },
    {
      "cell_type": "code",
      "metadata": {
        "id": "QFOXZMQo-MTk",
        "colab_type": "code",
        "colab": {}
      },
      "source": [
        "def get_batches(arr, batch_size, seq_length):\n",
        "    '''Create a generator that returns batches of size\n",
        "       batch_size x seq_length from arr.\n",
        "       \n",
        "       Arguments\n",
        "       ---------\n",
        "       arr: Array you want to make batches from\n",
        "       batch_size: Batch size, the number of sequences per batch\n",
        "       seq_length: Number of encoded chars in a sequence\n",
        "    '''\n",
        "    batch_size_total = batch_size * seq_length\n",
        "    ## TODO: Get the number of batches we can make\n",
        "    n_batches = len(arr) // batch_size_total\n",
        "    \n",
        "    ## TODO: Keep only enough characters to make full batches\n",
        "    arr = arr[: n_batches * batch_size_total]\n",
        "    \n",
        "    ## TODO: Reshape into batch_size rows\n",
        "    #print('\\narray shape ',arr.reshape((batch_size, -1)))\n",
        "    arr = arr.reshape((batch_size, -1))\n",
        "    \n",
        "    ## TODO: Iterate over the batches using a window of size seq_length\n",
        "    #i = 1\n",
        "    for n in range(0, arr.shape[1], seq_length):\n",
        "        # The features\n",
        "        x = arr[:, n:n + seq_length]\n",
        "        # The targets, shifted by one\n",
        "        y = np.zeros_like(x)\n",
        "        try:\n",
        "          y[:, :-1], y[:, -1] = x[:, 1:], arr[:, n + seq_length]\n",
        "        except IndexError:\n",
        "          y[:, :-1], y[:, -1] = x[:, 1:], arr[:, 0]\n",
        "        #if i == 1:\n",
        "          #print(y)\n",
        "          #print('\\n',x)\n",
        "          #i += 1\n",
        "\n",
        "        yield x, y\n",
        "        #when you call the yield function, the code you have written in the function body does not run. \n",
        "        #The function only returns the generator object, this is a bit tricky :-)\n",
        "        #Then, your code will continue from where it left off each time for uses the generator"
      ],
      "execution_count": 9,
      "outputs": []
    },
    {
      "cell_type": "markdown",
      "metadata": {
        "id": "zBs3PigE-MTm",
        "colab_type": "text"
      },
      "source": [
        "### Test Your Implementation\n",
        "\n",
        "Now I'll make some data sets and we can check out what's going on as we batch data. Here, as an example, I'm going to use a batch size of 8 and 50 sequence steps."
      ]
    },
    {
      "cell_type": "code",
      "metadata": {
        "id": "D8JFyBSv-MTm",
        "colab_type": "code",
        "colab": {}
      },
      "source": [
        "batches = get_batches(encoded, 8, 50)\n",
        "x, y = next(batches)"
      ],
      "execution_count": 10,
      "outputs": []
    },
    {
      "cell_type": "code",
      "metadata": {
        "id": "4aEWZuV--MTo",
        "colab_type": "code",
        "colab": {
          "base_uri": "https://localhost:8080/",
          "height": 355
        },
        "outputId": "fded16d1-eb50-4bd7-bef9-3fd78d2371b1"
      },
      "source": [
        "# printing out the first 10 items in a sequence\n",
        "print('x\\n', x[:10, :10])\n",
        "print('\\ny\\n', y[:10, :10])"
      ],
      "execution_count": 11,
      "outputs": [
        {
          "output_type": "stream",
          "text": [
            "x\n",
            " [[73 58  1 11 10 33 57 62 67 55]\n",
            " [ 0 32 47 62 10 58  1 10 62  1]\n",
            " [33 47 65 62 32 57 62  1 62 81]\n",
            " [ 0 62 10 58 33 62 24 58 12 33]\n",
            " [62  0  1 60 62 58 33 57 62 10]\n",
            " [24 52  0  0 12 32 47 62  1 47]\n",
            " [62 13 47 47  1 62 58  1 65 62]\n",
            " [37 63 72 32 47  0 53 41 23 62]]\n",
            "\n",
            "y\n",
            " [[58  1 11 10 33 57 62 67 55 55]\n",
            " [32 47 62 10 58  1 10 62  1 10]\n",
            " [47 65 62 32 57 62  1 62 81 32]\n",
            " [62 10 58 33 62 24 58 12 33 81]\n",
            " [ 0  1 60 62 58 33 57 62 10 33]\n",
            " [52  0  0 12 32 47 62  1 47 65]\n",
            " [13 47 47  1 62 58  1 65 62  0]\n",
            " [63 72 32 47  0 53 41 23 62  9]]\n"
          ],
          "name": "stdout"
        }
      ]
    },
    {
      "cell_type": "code",
      "metadata": {
        "id": "vZmDqKnSh0TZ",
        "colab_type": "code",
        "colab": {}
      },
      "source": [
        "#y"
      ],
      "execution_count": 12,
      "outputs": []
    },
    {
      "cell_type": "markdown",
      "metadata": {
        "id": "zPNwsuUw-MTq",
        "colab_type": "text"
      },
      "source": [
        "If you implemented `get_batches` correctly, the above output should look something like \n",
        "```\n",
        "x\n",
        " [[25  8 60 11 45 27 28 73  1  2]\n",
        " [17  7 20 73 45  8 60 45 73 60]\n",
        " [27 20 80 73  7 28 73 60 73 65]\n",
        " [17 73 45  8 27 73 66  8 46 27]\n",
        " [73 17 60 12 73  8 27 28 73 45]\n",
        " [66 64 17 17 46  7 20 73 60 20]\n",
        " [73 76 20 20 60 73  8 60 80 73]\n",
        " [47 35 43  7 20 17 24 50 37 73]]\n",
        "\n",
        "y\n",
        " [[ 8 60 11 45 27 28 73  1  2  2]\n",
        " [ 7 20 73 45  8 60 45 73 60 45]\n",
        " [20 80 73  7 28 73 60 73 65  7]\n",
        " [73 45  8 27 73 66  8 46 27 65]\n",
        " [17 60 12 73  8 27 28 73 45 27]\n",
        " [64 17 17 46  7 20 73 60 20 80]\n",
        " [76 20 20 60 73  8 60 80 73 17]\n",
        " [35 43  7 20 17 24 50 37 73 36]]\n",
        " ```\n",
        " although the exact numbers may be different. Check to make sure the data is shifted over one step for `y`."
      ]
    },
    {
      "cell_type": "markdown",
      "metadata": {
        "id": "MK-5wgm6-MTq",
        "colab_type": "text"
      },
      "source": [
        "---\n",
        "## Defining the network with PyTorch\n",
        "\n",
        "Below is where you'll define the network.\n",
        "\n",
        "<img src=\"https://github.com/krteja44/Deep_Learning_with_PyTorch/blob/master/recurrent-neural-networks/char-rnn/assets/charRNN.png?raw=1\" width=500px>\n",
        "\n",
        "Next, you'll use PyTorch to define the architecture of the network. We start by defining the layers and operations we want. Then, define a method for the forward pass. You've also been given a method for predicting characters."
      ]
    },
    {
      "cell_type": "markdown",
      "metadata": {
        "id": "yuK40BlR-MTr",
        "colab_type": "text"
      },
      "source": [
        "### Model Structure\n",
        "\n",
        "In `__init__` the suggested structure is as follows:\n",
        "* Create and store the necessary dictionaries (this has been done for you)\n",
        "* Define an LSTM layer that takes as params: an input size (the number of characters), a hidden layer size `n_hidden`, a number of layers `n_layers`, a dropout probability `drop_prob`, and a batch_first boolean (True, since we are batching)\n",
        "* Define a dropout layer with `drop_prob`\n",
        "* Define a fully-connected layer with params: input size `n_hidden` and output size (the number of characters)\n",
        "* Finally, initialize the weights (again, this has been given)\n",
        "\n",
        "Note that some parameters have been named and given in the `__init__` function, and we use them and store them by doing something like `self.drop_prob = drop_prob`."
      ]
    },
    {
      "cell_type": "markdown",
      "metadata": {
        "id": "Ca_EPOrc-MTr",
        "colab_type": "text"
      },
      "source": [
        "---\n",
        "### LSTM Inputs/Outputs\n",
        "\n",
        "You can create a basic [LSTM layer](https://pytorch.org/docs/stable/nn.html#lstm) as follows\n",
        "\n",
        "```python\n",
        "self.lstm = nn.LSTM(input_size, n_hidden, n_layers, \n",
        "                            dropout=drop_prob, batch_first=True)\n",
        "```\n",
        "\n",
        "where `input_size` is the number of characters this cell expects to see as sequential input, and `n_hidden` is the number of units in the hidden layers in the cell. And we can add dropout by adding a dropout parameter with a specified probability; this will automatically add dropout to the inputs or outputs. Finally, in the `forward` function, we can stack up the LSTM cells into layers using `.view`. With this, you pass in a list of cells and it will send the output of one cell into the next cell.\n",
        "\n",
        "We also need to create an initial hidden state of all zeros. This is done like so\n",
        "\n",
        "```python\n",
        "self.init_hidden()\n",
        "```"
      ]
    },
    {
      "cell_type": "code",
      "metadata": {
        "id": "K8-Rj2xo-MTr",
        "colab_type": "code",
        "colab": {
          "base_uri": "https://localhost:8080/",
          "height": 35
        },
        "outputId": "02a5ca66-d6c0-466d-b4c2-540db8de0859"
      },
      "source": [
        "# check if GPU is available\n",
        "train_on_gpu = torch.cuda.is_available()\n",
        "if(train_on_gpu):\n",
        "    print('Training on GPU!')\n",
        "else: \n",
        "    print('No GPU available, training on CPU; consider making n_epochs very small.')"
      ],
      "execution_count": 13,
      "outputs": [
        {
          "output_type": "stream",
          "text": [
            "Training on GPU!\n"
          ],
          "name": "stdout"
        }
      ]
    },
    {
      "cell_type": "code",
      "metadata": {
        "id": "zpHqUAQ8-MTu",
        "colab_type": "code",
        "colab": {}
      },
      "source": [
        "class CharRNN(nn.Module):\n",
        "    \n",
        "    def __init__(self, tokens, n_hidden=256, n_layers=2,\n",
        "                               drop_prob=0.5, lr=0.001):\n",
        "        super().__init__()\n",
        "        self.drop_prob = drop_prob\n",
        "        self.n_layers = n_layers\n",
        "        self.n_hidden = n_hidden\n",
        "        self.lr = lr\n",
        "        \n",
        "        # creating character dictionaries\n",
        "        self.chars = tokens\n",
        "        self.int2char = dict(enumerate(self.chars))\n",
        "        self.char2int = {ch: ii for ii, ch in self.int2char.items()}\n",
        "        \n",
        "        ## TODO: define the layers of the model\n",
        "        self.lstm = nn.LSTM(len(self.chars), n_hidden, n_layers, dropout=drop_prob, batch_first=True)\n",
        "        self.dropout = nn.Dropout(p=drop_prob)\n",
        "        self.fc = nn.Linear(n_hidden, len(self.chars))\n",
        "\n",
        "    \n",
        "    def forward(self, x, hidden):\n",
        "        ''' Forward pass through the network. \n",
        "            These inputs are x, and the hidden/cell state `hidden`. '''\n",
        "                \n",
        "        ## TODO: Get the outputs and the new hidden state from the lstm\n",
        "        r_output, hidden = self.lstm(x, hidden)\n",
        "        out = self.dropout(r_output)\n",
        "\n",
        "        out = out.contiguous().view(-1, self.n_hidden)\n",
        "\n",
        "        out = self.fc(out)\n",
        "        # return the final output and the hidden state\n",
        "        return out, hidden\n",
        "    \n",
        "    \n",
        "    def init_hidden(self, batch_size):\n",
        "        ''' Initializes hidden state '''\n",
        "        # Create two new tensors with sizes n_layers x batch_size x n_hidden,\n",
        "        # initialized to zero, for hidden state and cell state of LSTM\n",
        "        weight = next(self.parameters()).data\n",
        "        \n",
        "        if (train_on_gpu):\n",
        "            hidden = (weight.new(self.n_layers, batch_size, self.n_hidden).zero_().cuda(),\n",
        "                  weight.new(self.n_layers, batch_size, self.n_hidden).zero_().cuda())\n",
        "        else:\n",
        "            hidden = (weight.new(self.n_layers, batch_size, self.n_hidden).zero_(),\n",
        "                      weight.new(self.n_layers, batch_size, self.n_hidden).zero_())\n",
        "        \n",
        "        return hidden\n",
        "        "
      ],
      "execution_count": 14,
      "outputs": []
    },
    {
      "cell_type": "markdown",
      "metadata": {
        "id": "angqjcPr-MTx",
        "colab_type": "text"
      },
      "source": [
        "## Time to train\n",
        "\n",
        "The train function gives us the ability to set the number of epochs, the learning rate, and other parameters.\n",
        "\n",
        "Below we're using an Adam optimizer and cross entropy loss since we are looking at character class scores as output. We calculate the loss and perform backpropagation, as usual!\n",
        "\n",
        "A couple of details about training: \n",
        ">* Within the batch loop, we detach the hidden state from its history; this time setting it equal to a new *tuple* variable because an LSTM has a hidden state that is a tuple of the hidden and cell states.\n",
        "* We use [`clip_grad_norm_`](https://pytorch.org/docs/stable/_modules/torch/nn/utils/clip_grad.html) to help prevent exploding gradients."
      ]
    },
    {
      "cell_type": "code",
      "metadata": {
        "id": "o81rZYpuTOzt",
        "colab_type": "code",
        "colab": {}
      },
      "source": [
        "def train(net, data, epochs=10, batch_size=10, seq_length=50, lr=0.01, clip=5, val_frac=0.1, print_every=10):\n",
        "\n",
        "  net.train()\n",
        "\n",
        "  criterion = nn.CrossEntropyLoss()\n",
        "  opt = torch.optim.Adam( net.parameters(), lr=lr)\n",
        "\n",
        "  val_idx = int(len(data)*(1-val_frac))\n",
        "  data, val_data = data[:val_idx], data[val_idx:]\n",
        "\n",
        "  if(train_on_gpu):\n",
        "    net.cuda()\n",
        "  \n",
        "  counter = 0\n",
        "  n_chars = len(net.chars)\n",
        "\n",
        "  for e in range(epochs):\n",
        "\n",
        "    h = net.init_hidden(batch_size)\n",
        "    for x, y in get_batches(data, batch_size, seq_length):\n",
        "      counter += 1\n",
        "      x = one_hot_encode(x, n_chars)\n",
        "      inputs, targets = torch.from_numpy(x), torch.from_numpy(y)\n",
        "\n",
        "      if train_on_gpu:\n",
        "        inputs, targets = inputs.cuda(), targets.cuda()\n",
        "      \n",
        "      h = tuple([each.data for each in h])\n",
        "      net.zero_grad()\n",
        "\n",
        "      output, h = net(inputs, h)\n",
        "      loss = criterion(output, targets.view(batch_size*seq_length).long())\n",
        "      loss.backward()\n",
        "      nn.utils.clip_grad_norm_(net.parameters(), clip)\n",
        "      opt.step()\n",
        "\n",
        "      if counter % print_every==0:\n",
        "        val_h = net.init_hidden(batch_size)\n",
        "        val_losses = []\n",
        "        net.eval()\n",
        "        for x, y in get_batches(val_data, batch_size, seq_length):\n",
        "          x = one_hot_encode(x, n_chars)\n",
        "          x, y = torch.from_numpy(x), torch.from_numpy(y)\n",
        "\n",
        "          val_h = tuple([each.data for each in val_h])\n",
        "\n",
        "          inputs, target = x, y\n",
        "          if train_on_gpu:\n",
        "            inputs, target = inputs.cuda(), target.cuda()\n",
        "\n",
        "          output, val_h = net(inputs, val_h)\n",
        "          val_loss = criterion(output, target.view(batch_size*seq_length).long())\n",
        "          val_losses.append(val_loss.item())\n",
        "\n",
        "        net.train()\n",
        "\n",
        "        print(\"Epoch: {} \\tStep: {} \\tLoss: {:.6f} \\tVal Loss: {:.6f}\".format(\n",
        "            e+1, counter, loss.item(), np.mean(val_losses)))\n",
        "    "
      ],
      "execution_count": 15,
      "outputs": []
    },
    {
      "cell_type": "markdown",
      "metadata": {
        "id": "msEzy7fG-MTz",
        "colab_type": "text"
      },
      "source": [
        "## Instantiating the model\n",
        "\n",
        "Now we can actually train the network. First we'll create the network itself, with some given hyperparameters. Then, define the mini-batches sizes, and start training!"
      ]
    },
    {
      "cell_type": "code",
      "metadata": {
        "id": "Dv8BoJ7r-MTz",
        "colab_type": "code",
        "colab": {
          "base_uri": "https://localhost:8080/",
          "height": 106
        },
        "outputId": "69698351-5b27-4c91-dfc0-d6ea13680f57"
      },
      "source": [
        "## TODO: set your model hyperparameters\n",
        "# define and print the net\n",
        "n_hidden= 512\n",
        "n_layers= 2\n",
        "\n",
        "net = CharRNN(chars, n_hidden, n_layers)\n",
        "print(net)"
      ],
      "execution_count": 16,
      "outputs": [
        {
          "output_type": "stream",
          "text": [
            "CharRNN(\n",
            "  (lstm): LSTM(83, 512, num_layers=2, batch_first=True, dropout=0.5)\n",
            "  (dropout): Dropout(p=0.5, inplace=False)\n",
            "  (fc): Linear(in_features=512, out_features=83, bias=True)\n",
            ")\n"
          ],
          "name": "stdout"
        }
      ]
    },
    {
      "cell_type": "markdown",
      "metadata": {
        "id": "LVTtP_zb-MT2",
        "colab_type": "text"
      },
      "source": [
        "### Set your training hyperparameters!"
      ]
    },
    {
      "cell_type": "code",
      "metadata": {
        "scrolled": true,
        "id": "ijOECvF1-MT2",
        "colab_type": "code",
        "colab": {
          "base_uri": "https://localhost:8080/",
          "height": 1000
        },
        "outputId": "08c26b2d-5bc8-4bb1-88b0-9c10acf8bcd8"
      },
      "source": [
        "batch_size = 128\n",
        "seq_length = 100\n",
        "n_epochs =  10 # start small if you are just testing initial behavior\n",
        "\n",
        "# train the model\n",
        "train(net, encoded, epochs=n_epochs, batch_size=batch_size, seq_length=seq_length, lr=0.001, print_every=10)"
      ],
      "execution_count": 17,
      "outputs": [
        {
          "output_type": "stream",
          "text": [
            "/usr/local/lib/python3.6/dist-packages/torch/cuda/__init__.py:125: UserWarning: \n",
            "Tesla T4 with CUDA capability sm_75 is not compatible with the current PyTorch installation.\n",
            "The current PyTorch install supports CUDA capabilities sm_37 sm_50 sm_60 sm_70.\n",
            "If you want to use the Tesla T4 GPU with PyTorch, please check the instructions at https://pytorch.org/get-started/locally/\n",
            "\n",
            "  warnings.warn(incompatible_device_warn.format(device_name, capability, \" \".join(arch_list), device_name))\n"
          ],
          "name": "stderr"
        },
        {
          "output_type": "stream",
          "text": [
            "Epoch: 1 \tStep: 10 \tLoss: 3.258328 \tVal Loss: 3.195195\n",
            "Epoch: 1 \tStep: 20 \tLoss: 3.150581 \tVal Loss: 3.130700\n",
            "Epoch: 1 \tStep: 30 \tLoss: 3.142294 \tVal Loss: 3.122479\n",
            "Epoch: 1 \tStep: 40 \tLoss: 3.114490 \tVal Loss: 3.120214\n",
            "Epoch: 1 \tStep: 50 \tLoss: 3.145682 \tVal Loss: 3.118055\n",
            "Epoch: 1 \tStep: 60 \tLoss: 3.118870 \tVal Loss: 3.116544\n",
            "Epoch: 1 \tStep: 70 \tLoss: 3.107537 \tVal Loss: 3.115529\n",
            "Epoch: 1 \tStep: 80 \tLoss: 3.126658 \tVal Loss: 3.112905\n",
            "Epoch: 1 \tStep: 90 \tLoss: 3.123091 \tVal Loss: 3.107524\n",
            "Epoch: 1 \tStep: 100 \tLoss: 3.104109 \tVal Loss: 3.095937\n",
            "Epoch: 1 \tStep: 110 \tLoss: 3.082210 \tVal Loss: 3.068883\n",
            "Epoch: 1 \tStep: 120 \tLoss: 3.012721 \tVal Loss: 3.003022\n",
            "Epoch: 1 \tStep: 130 \tLoss: 2.930808 \tVal Loss: 2.901452\n",
            "Epoch: 2 \tStep: 140 \tLoss: 2.914991 \tVal Loss: 2.810723\n",
            "Epoch: 2 \tStep: 150 \tLoss: 2.765373 \tVal Loss: 2.715137\n",
            "Epoch: 2 \tStep: 160 \tLoss: 2.643420 \tVal Loss: 2.604693\n",
            "Epoch: 2 \tStep: 170 \tLoss: 2.563033 \tVal Loss: 2.540503\n",
            "Epoch: 2 \tStep: 180 \tLoss: 2.525852 \tVal Loss: 2.489006\n",
            "Epoch: 2 \tStep: 190 \tLoss: 2.468503 \tVal Loss: 2.450804\n",
            "Epoch: 2 \tStep: 200 \tLoss: 2.455875 \tVal Loss: 2.414678\n",
            "Epoch: 2 \tStep: 210 \tLoss: 2.421199 \tVal Loss: 2.389585\n",
            "Epoch: 2 \tStep: 220 \tLoss: 2.380691 \tVal Loss: 2.359154\n",
            "Epoch: 2 \tStep: 230 \tLoss: 2.374952 \tVal Loss: 2.335134\n",
            "Epoch: 2 \tStep: 240 \tLoss: 2.343333 \tVal Loss: 2.309524\n",
            "Epoch: 2 \tStep: 250 \tLoss: 2.289817 \tVal Loss: 2.284233\n",
            "Epoch: 2 \tStep: 260 \tLoss: 2.253422 \tVal Loss: 2.248396\n",
            "Epoch: 2 \tStep: 270 \tLoss: 2.258993 \tVal Loss: 2.228178\n",
            "Epoch: 3 \tStep: 280 \tLoss: 2.248500 \tVal Loss: 2.207605\n",
            "Epoch: 3 \tStep: 290 \tLoss: 2.226181 \tVal Loss: 2.184950\n",
            "Epoch: 3 \tStep: 300 \tLoss: 2.193205 \tVal Loss: 2.157579\n",
            "Epoch: 3 \tStep: 310 \tLoss: 2.166596 \tVal Loss: 2.138908\n",
            "Epoch: 3 \tStep: 320 \tLoss: 2.141292 \tVal Loss: 2.118803\n",
            "Epoch: 3 \tStep: 330 \tLoss: 2.106565 \tVal Loss: 2.101099\n",
            "Epoch: 3 \tStep: 340 \tLoss: 2.126543 \tVal Loss: 2.078917\n",
            "Epoch: 3 \tStep: 350 \tLoss: 2.105624 \tVal Loss: 2.063997\n",
            "Epoch: 3 \tStep: 360 \tLoss: 2.039075 \tVal Loss: 2.044405\n",
            "Epoch: 3 \tStep: 370 \tLoss: 2.065093 \tVal Loss: 2.032523\n",
            "Epoch: 3 \tStep: 380 \tLoss: 2.047649 \tVal Loss: 2.012342\n",
            "Epoch: 3 \tStep: 390 \tLoss: 2.017255 \tVal Loss: 2.000714\n",
            "Epoch: 3 \tStep: 400 \tLoss: 1.991627 \tVal Loss: 1.981460\n",
            "Epoch: 3 \tStep: 410 \tLoss: 1.999459 \tVal Loss: 1.964339\n",
            "Epoch: 4 \tStep: 420 \tLoss: 1.992055 \tVal Loss: 1.952403\n",
            "Epoch: 4 \tStep: 430 \tLoss: 1.976391 \tVal Loss: 1.937904\n",
            "Epoch: 4 \tStep: 440 \tLoss: 1.956747 \tVal Loss: 1.929978\n",
            "Epoch: 4 \tStep: 450 \tLoss: 1.894477 \tVal Loss: 1.907643\n",
            "Epoch: 4 \tStep: 460 \tLoss: 1.890545 \tVal Loss: 1.898160\n",
            "Epoch: 4 \tStep: 470 \tLoss: 1.923793 \tVal Loss: 1.887707\n",
            "Epoch: 4 \tStep: 480 \tLoss: 1.901203 \tVal Loss: 1.873653\n",
            "Epoch: 4 \tStep: 490 \tLoss: 1.911469 \tVal Loss: 1.863325\n",
            "Epoch: 4 \tStep: 500 \tLoss: 1.893476 \tVal Loss: 1.847197\n",
            "Epoch: 4 \tStep: 510 \tLoss: 1.862635 \tVal Loss: 1.836046\n",
            "Epoch: 4 \tStep: 520 \tLoss: 1.881573 \tVal Loss: 1.824956\n",
            "Epoch: 4 \tStep: 530 \tLoss: 1.845466 \tVal Loss: 1.815079\n",
            "Epoch: 4 \tStep: 540 \tLoss: 1.806750 \tVal Loss: 1.812076\n",
            "Epoch: 4 \tStep: 550 \tLoss: 1.849790 \tVal Loss: 1.790495\n",
            "Epoch: 5 \tStep: 560 \tLoss: 1.817438 \tVal Loss: 1.781328\n",
            "Epoch: 5 \tStep: 570 \tLoss: 1.803769 \tVal Loss: 1.772185\n",
            "Epoch: 5 \tStep: 580 \tLoss: 1.778104 \tVal Loss: 1.763040\n",
            "Epoch: 5 \tStep: 590 \tLoss: 1.781350 \tVal Loss: 1.752021\n",
            "Epoch: 5 \tStep: 600 \tLoss: 1.767307 \tVal Loss: 1.743860\n",
            "Epoch: 5 \tStep: 610 \tLoss: 1.751808 \tVal Loss: 1.738254\n",
            "Epoch: 5 \tStep: 620 \tLoss: 1.758931 \tVal Loss: 1.726435\n",
            "Epoch: 5 \tStep: 630 \tLoss: 1.764923 \tVal Loss: 1.719422\n",
            "Epoch: 5 \tStep: 640 \tLoss: 1.738906 \tVal Loss: 1.713419\n",
            "Epoch: 5 \tStep: 650 \tLoss: 1.711271 \tVal Loss: 1.709363\n",
            "Epoch: 5 \tStep: 660 \tLoss: 1.693936 \tVal Loss: 1.697952\n",
            "Epoch: 5 \tStep: 670 \tLoss: 1.729735 \tVal Loss: 1.692293\n",
            "Epoch: 5 \tStep: 680 \tLoss: 1.718371 \tVal Loss: 1.683278\n",
            "Epoch: 5 \tStep: 690 \tLoss: 1.695312 \tVal Loss: 1.677834\n",
            "Epoch: 6 \tStep: 700 \tLoss: 1.695979 \tVal Loss: 1.669372\n",
            "Epoch: 6 \tStep: 710 \tLoss: 1.678360 \tVal Loss: 1.663972\n",
            "Epoch: 6 \tStep: 720 \tLoss: 1.666208 \tVal Loss: 1.656040\n",
            "Epoch: 6 \tStep: 730 \tLoss: 1.686157 \tVal Loss: 1.649271\n",
            "Epoch: 6 \tStep: 740 \tLoss: 1.656281 \tVal Loss: 1.643513\n",
            "Epoch: 6 \tStep: 750 \tLoss: 1.635789 \tVal Loss: 1.638662\n",
            "Epoch: 6 \tStep: 760 \tLoss: 1.671825 \tVal Loss: 1.633312\n",
            "Epoch: 6 \tStep: 770 \tLoss: 1.654335 \tVal Loss: 1.627085\n",
            "Epoch: 6 \tStep: 780 \tLoss: 1.631001 \tVal Loss: 1.622588\n",
            "Epoch: 6 \tStep: 790 \tLoss: 1.616553 \tVal Loss: 1.618191\n",
            "Epoch: 6 \tStep: 800 \tLoss: 1.640768 \tVal Loss: 1.610592\n",
            "Epoch: 6 \tStep: 810 \tLoss: 1.627627 \tVal Loss: 1.606481\n",
            "Epoch: 6 \tStep: 820 \tLoss: 1.590354 \tVal Loss: 1.601909\n",
            "Epoch: 6 \tStep: 830 \tLoss: 1.631838 \tVal Loss: 1.597264\n",
            "Epoch: 7 \tStep: 840 \tLoss: 1.579150 \tVal Loss: 1.589116\n",
            "Epoch: 7 \tStep: 850 \tLoss: 1.598689 \tVal Loss: 1.585455\n",
            "Epoch: 7 \tStep: 860 \tLoss: 1.580385 \tVal Loss: 1.579194\n",
            "Epoch: 7 \tStep: 870 \tLoss: 1.592187 \tVal Loss: 1.573574\n",
            "Epoch: 7 \tStep: 880 \tLoss: 1.599537 \tVal Loss: 1.573908\n",
            "Epoch: 7 \tStep: 890 \tLoss: 1.586129 \tVal Loss: 1.567688\n",
            "Epoch: 7 \tStep: 900 \tLoss: 1.575011 \tVal Loss: 1.563125\n",
            "Epoch: 7 \tStep: 910 \tLoss: 1.555081 \tVal Loss: 1.560393\n",
            "Epoch: 7 \tStep: 920 \tLoss: 1.565680 \tVal Loss: 1.558270\n",
            "Epoch: 7 \tStep: 930 \tLoss: 1.552804 \tVal Loss: 1.551597\n",
            "Epoch: 7 \tStep: 940 \tLoss: 1.566720 \tVal Loss: 1.549388\n",
            "Epoch: 7 \tStep: 950 \tLoss: 1.566848 \tVal Loss: 1.544313\n",
            "Epoch: 7 \tStep: 960 \tLoss: 1.568315 \tVal Loss: 1.540237\n",
            "Epoch: 7 \tStep: 970 \tLoss: 1.578478 \tVal Loss: 1.538105\n",
            "Epoch: 8 \tStep: 980 \tLoss: 1.539530 \tVal Loss: 1.532066\n",
            "Epoch: 8 \tStep: 990 \tLoss: 1.537117 \tVal Loss: 1.527171\n",
            "Epoch: 8 \tStep: 1000 \tLoss: 1.528541 \tVal Loss: 1.522645\n",
            "Epoch: 8 \tStep: 1010 \tLoss: 1.563304 \tVal Loss: 1.523343\n",
            "Epoch: 8 \tStep: 1020 \tLoss: 1.530318 \tVal Loss: 1.518134\n",
            "Epoch: 8 \tStep: 1030 \tLoss: 1.513788 \tVal Loss: 1.513677\n",
            "Epoch: 8 \tStep: 1040 \tLoss: 1.530668 \tVal Loss: 1.515908\n",
            "Epoch: 8 \tStep: 1050 \tLoss: 1.511627 \tVal Loss: 1.505899\n",
            "Epoch: 8 \tStep: 1060 \tLoss: 1.516735 \tVal Loss: 1.503124\n",
            "Epoch: 8 \tStep: 1070 \tLoss: 1.510191 \tVal Loss: 1.502330\n",
            "Epoch: 8 \tStep: 1080 \tLoss: 1.515609 \tVal Loss: 1.497347\n",
            "Epoch: 8 \tStep: 1090 \tLoss: 1.505559 \tVal Loss: 1.493321\n",
            "Epoch: 8 \tStep: 1100 \tLoss: 1.482629 \tVal Loss: 1.491744\n",
            "Epoch: 8 \tStep: 1110 \tLoss: 1.496456 \tVal Loss: 1.488612\n",
            "Epoch: 9 \tStep: 1120 \tLoss: 1.506204 \tVal Loss: 1.484806\n",
            "Epoch: 9 \tStep: 1130 \tLoss: 1.490718 \tVal Loss: 1.482217\n",
            "Epoch: 9 \tStep: 1140 \tLoss: 1.497166 \tVal Loss: 1.476980\n",
            "Epoch: 9 \tStep: 1150 \tLoss: 1.512342 \tVal Loss: 1.476868\n",
            "Epoch: 9 \tStep: 1160 \tLoss: 1.474523 \tVal Loss: 1.474496\n",
            "Epoch: 9 \tStep: 1170 \tLoss: 1.476598 \tVal Loss: 1.471375\n",
            "Epoch: 9 \tStep: 1180 \tLoss: 1.470297 \tVal Loss: 1.473886\n",
            "Epoch: 9 \tStep: 1190 \tLoss: 1.504622 \tVal Loss: 1.467232\n",
            "Epoch: 9 \tStep: 1200 \tLoss: 1.442900 \tVal Loss: 1.464942\n",
            "Epoch: 9 \tStep: 1210 \tLoss: 1.467379 \tVal Loss: 1.460336\n",
            "Epoch: 9 \tStep: 1220 \tLoss: 1.460863 \tVal Loss: 1.457314\n",
            "Epoch: 9 \tStep: 1230 \tLoss: 1.433340 \tVal Loss: 1.455776\n",
            "Epoch: 9 \tStep: 1240 \tLoss: 1.446976 \tVal Loss: 1.453420\n",
            "Epoch: 9 \tStep: 1250 \tLoss: 1.448768 \tVal Loss: 1.452311\n",
            "Epoch: 10 \tStep: 1260 \tLoss: 1.462138 \tVal Loss: 1.451815\n",
            "Epoch: 10 \tStep: 1270 \tLoss: 1.442842 \tVal Loss: 1.447350\n",
            "Epoch: 10 \tStep: 1280 \tLoss: 1.461806 \tVal Loss: 1.445406\n",
            "Epoch: 10 \tStep: 1290 \tLoss: 1.463303 \tVal Loss: 1.445745\n",
            "Epoch: 10 \tStep: 1300 \tLoss: 1.446853 \tVal Loss: 1.445572\n",
            "Epoch: 10 \tStep: 1310 \tLoss: 1.445120 \tVal Loss: 1.436781\n",
            "Epoch: 10 \tStep: 1320 \tLoss: 1.415265 \tVal Loss: 1.434822\n",
            "Epoch: 10 \tStep: 1330 \tLoss: 1.418398 \tVal Loss: 1.433468\n",
            "Epoch: 10 \tStep: 1340 \tLoss: 1.409079 \tVal Loss: 1.429640\n",
            "Epoch: 10 \tStep: 1350 \tLoss: 1.406524 \tVal Loss: 1.427661\n",
            "Epoch: 10 \tStep: 1360 \tLoss: 1.408509 \tVal Loss: 1.426101\n",
            "Epoch: 10 \tStep: 1370 \tLoss: 1.397629 \tVal Loss: 1.427774\n",
            "Epoch: 10 \tStep: 1380 \tLoss: 1.431623 \tVal Loss: 1.424369\n",
            "Epoch: 10 \tStep: 1390 \tLoss: 1.445745 \tVal Loss: 1.422257\n"
          ],
          "name": "stdout"
        }
      ]
    },
    {
      "cell_type": "markdown",
      "metadata": {
        "id": "2C7j1hWW-MT4",
        "colab_type": "text"
      },
      "source": [
        "## Getting the best model\n",
        "\n",
        "To set your hyperparameters to get the best performance, you'll want to watch the training and validation losses. If your training loss is much lower than the validation loss, you're overfitting. Increase regularization (more dropout) or use a smaller network. If the training and validation losses are close, you're underfitting so you can increase the size of the network."
      ]
    },
    {
      "cell_type": "markdown",
      "metadata": {
        "id": "iCorvxVf-MT4",
        "colab_type": "text"
      },
      "source": [
        "## Hyperparameters\n",
        "\n",
        "Here are the hyperparameters for the network.\n",
        "\n",
        "In defining the model:\n",
        "* `n_hidden` - The number of units in the hidden layers.\n",
        "* `n_layers` - Number of hidden LSTM layers to use.\n",
        "\n",
        "We assume that dropout probability and learning rate will be kept at the default, in this example.\n",
        "\n",
        "And in training:\n",
        "* `batch_size` - Number of sequences running through the network in one pass.\n",
        "* `seq_length` - Number of characters in the sequence the network is trained on. Larger is better typically, the network will learn more long range dependencies. But it takes longer to train. 100 is typically a good number here.\n",
        "* `lr` - Learning rate for training\n",
        "\n",
        "Here's some good advice from Andrej Karpathy on training the network. I'm going to copy it in here for your benefit, but also link to [where it originally came from](https://github.com/karpathy/char-rnn#tips-and-tricks).\n",
        "\n",
        "> ## Tips and Tricks\n",
        "\n",
        ">### Monitoring Validation Loss vs. Training Loss\n",
        ">If you're somewhat new to Machine Learning or Neural Networks it can take a bit of expertise to get good models. The most important quantity to keep track of is the difference between your training loss (printed during training) and the validation loss (printed once in a while when the RNN is run on the validation data (by default every 1000 iterations)). In particular:\n",
        "\n",
        "> - If your training loss is much lower than validation loss then this means the network might be **overfitting**. Solutions to this are to decrease your network size, or to increase dropout. For example you could try dropout of 0.5 and so on.\n",
        "> - If your training/validation loss are about equal then your model is **underfitting**. Increase the size of your model (either number of layers or the raw number of neurons per layer)\n",
        "\n",
        "> ### Approximate number of parameters\n",
        "\n",
        "> The two most important parameters that control the model are `n_hidden` and `n_layers`. I would advise that you always use `n_layers` of either 2/3. The `n_hidden` can be adjusted based on how much data you have. The two important quantities to keep track of here are:\n",
        "\n",
        "> - The number of parameters in your model. This is printed when you start training.\n",
        "> - The size of your dataset. 1MB file is approximately 1 million characters.\n",
        "\n",
        ">These two should be about the same order of magnitude. It's a little tricky to tell. Here are some examples:\n",
        "\n",
        "> - I have a 100MB dataset and I'm using the default parameter settings (which currently print 150K parameters). My data size is significantly larger (100 mil >> 0.15 mil), so I expect to heavily underfit. I am thinking I can comfortably afford to make `n_hidden` larger.\n",
        "> - I have a 10MB dataset and running a 10 million parameter model. I'm slightly nervous and I'm carefully monitoring my validation loss. If it's larger than my training loss then I may want to try to increase dropout a bit and see if that helps the validation loss.\n",
        "\n",
        "> ### Best models strategy\n",
        "\n",
        ">The winning strategy to obtaining very good models (if you have the compute time) is to always err on making the network larger (as large as you're willing to wait for it to compute) and then try different dropout values (between 0,1). Whatever model has the best validation performance (the loss, written in the checkpoint filename, low is good) is the one you should use in the end.\n",
        "\n",
        ">It is very common in deep learning to run many different models with many different hyperparameter settings, and in the end take whatever checkpoint gave the best validation performance.\n",
        "\n",
        ">By the way, the size of your training and validation splits are also parameters. Make sure you have a decent amount of data in your validation set or otherwise the validation performance will be noisy and not very informative."
      ]
    },
    {
      "cell_type": "markdown",
      "metadata": {
        "id": "Rp0zOfyE-MT5",
        "colab_type": "text"
      },
      "source": [
        "## Checkpoint\n",
        "\n",
        "After training, we'll save the model so we can load it again later if we need too. Here I'm saving the parameters needed to create the same architecture, the hidden layer hyperparameters and the text characters."
      ]
    },
    {
      "cell_type": "code",
      "metadata": {
        "id": "5wzQkilg-MT5",
        "colab_type": "code",
        "colab": {}
      },
      "source": [
        "# change the name, for saving multiple files\n",
        "model_name = 'rnn_x_epoch.net'\n",
        "\n",
        "checkpoint = {'n_hidden': net.n_hidden,\n",
        "              'n_layers': net.n_layers,\n",
        "              'state_dict': net.state_dict(),\n",
        "              'tokens': net.chars}\n",
        "\n",
        "with open(model_name, 'wb') as f:\n",
        "    torch.save(checkpoint, f)"
      ],
      "execution_count": 18,
      "outputs": []
    },
    {
      "cell_type": "markdown",
      "metadata": {
        "id": "W599x9t_-MT7",
        "colab_type": "text"
      },
      "source": [
        "---\n",
        "## Making Predictions\n",
        "\n",
        "Now that the model is trained, we'll want to sample from it and make predictions about next characters! To sample, we pass in a character and have the network predict the next character. Then we take that character, pass it back in, and get another predicted character. Just keep doing this and you'll generate a bunch of text!\n",
        "\n",
        "### A note on the `predict`  function\n",
        "\n",
        "The output of our RNN is from a fully-connected layer and it outputs a **distribution of next-character scores**.\n",
        "\n",
        "> To actually get the next character, we apply a softmax function, which gives us a *probability* distribution that we can then sample to predict the next character.\n",
        "\n",
        "### Top K sampling\n",
        "\n",
        "Our predictions come from a categorical probability distribution over all the possible characters. We can make the sample text and make it more reasonable to handle (with less variables) by only considering some $K$ most probable characters. This will prevent the network from giving us completely absurd characters while allowing it to introduce some noise and randomness into the sampled text. Read more about [topk, here](https://pytorch.org/docs/stable/torch.html#torch.topk).\n"
      ]
    },
    {
      "cell_type": "code",
      "metadata": {
        "id": "7C0-4bw3-MT7",
        "colab_type": "code",
        "colab": {}
      },
      "source": [
        "def predict(net, char, h=None, top_k=None):\n",
        "        ''' Given a character, predict the next character.\n",
        "            Returns the predicted character and the hidden state.\n",
        "        '''\n",
        "        \n",
        "        # tensor inputs\n",
        "        x = np.array([[net.char2int[char]]])\n",
        "        x = one_hot_encode(x, len(net.chars))\n",
        "        inputs = torch.from_numpy(x)\n",
        "        \n",
        "        if(train_on_gpu):\n",
        "            inputs = inputs.cuda()\n",
        "        \n",
        "        # detach hidden state from history\n",
        "        h = tuple([each.data for each in h])\n",
        "        # get the output of the model\n",
        "        out, h = net(inputs, h)\n",
        "\n",
        "        # get the character probabilities\n",
        "        p = F.softmax(out, dim=1).data\n",
        "        if(train_on_gpu):\n",
        "            p = p.cpu() # move to cpu\n",
        "        \n",
        "        # get top characters\n",
        "        if top_k is None:\n",
        "            top_ch = np.arange(len(net.chars))\n",
        "        else:\n",
        "            p, top_ch = p.topk(top_k)\n",
        "            top_ch = top_ch.numpy().squeeze()\n",
        "        \n",
        "        # select the likely next character with some element of randomness\n",
        "        p = p.numpy().squeeze()\n",
        "        char = np.random.choice(top_ch, p=p/p.sum())\n",
        "        \n",
        "        # return the encoded value of the predicted char and the hidden state\n",
        "        return net.int2char[char], h"
      ],
      "execution_count": 19,
      "outputs": []
    },
    {
      "cell_type": "markdown",
      "metadata": {
        "id": "dS8hndLf-MT9",
        "colab_type": "text"
      },
      "source": [
        "### Priming and generating text \n",
        "\n",
        "Typically you'll want to prime the network so you can build up a hidden state. Otherwise the network will start out generating characters at random. In general the first bunch of characters will be a little rough since it hasn't built up a long history of characters to predict from."
      ]
    },
    {
      "cell_type": "code",
      "metadata": {
        "id": "kUANUuxL-MT-",
        "colab_type": "code",
        "colab": {}
      },
      "source": [
        "def sample(net, size, prime='The', top_k=None):\n",
        "        \n",
        "    if(train_on_gpu):\n",
        "        net.cuda()\n",
        "    else:\n",
        "        net.cpu()\n",
        "    \n",
        "    net.eval() # eval mode\n",
        "    \n",
        "    # First off, run through the prime characters\n",
        "    chars = [ch for ch in prime]\n",
        "    h = net.init_hidden(1)\n",
        "    for ch in prime:\n",
        "        char, h = predict(net, ch, h, top_k=top_k)\n",
        "\n",
        "    chars.append(char)\n",
        "    \n",
        "    # Now pass in the previous character and get a new one\n",
        "    for ii in range(size):\n",
        "        char, h = predict(net, chars[-1], h, top_k=top_k)\n",
        "        chars.append(char)\n",
        "\n",
        "    return ''.join(chars)"
      ],
      "execution_count": 20,
      "outputs": []
    },
    {
      "cell_type": "code",
      "metadata": {
        "id": "yIDY9-Ku-MUA",
        "colab_type": "code",
        "colab": {
          "base_uri": "https://localhost:8080/",
          "height": 408
        },
        "outputId": "ea9b576a-d45c-4fb7-e8a3-89d1b6e070b7"
      },
      "source": [
        "print(sample(net, 1000, prime='Anna', top_k=5))"
      ],
      "execution_count": 21,
      "outputs": [
        {
          "output_type": "stream",
          "text": [
            "Anna and she\n",
            "told her for the counter and a came at their sones,\" as so that the opent of a\n",
            "marriag was not before her first. And her\n",
            "foreming hear the sould that he had been feeling to be\n",
            "it of the children feeling\n",
            "of the prace word in the face, and truted a confisition, with the poors and her house of\n",
            "her hands and heart\n",
            "than he well as sent in the manstion face. \"I'm no thind in there as he say, is\n",
            "so anything and how some day.\" She went on him that were\n",
            "sincipically as an\n",
            "enjoyence and something\n",
            "here to the marming, and ther was some tream of those\n",
            "who said all his\n",
            "said it had\n",
            "been suppertated, and soot in the dropporss, she could not canded to this steps, and and all some founds well\n",
            "in anywered.\n",
            "\n",
            "\"You don't say a low of all about it, beciunes of the prepess, but and a comple and a peasant, and that she has been and stopping over that he's so thought and\n",
            "musid that shores were to get to say, a she talk to have a sacter thought as she\n",
            "had\n",
            "took to stretked, but his whome hands and his\n",
            "fa\n"
          ],
          "name": "stdout"
        }
      ]
    },
    {
      "cell_type": "markdown",
      "metadata": {
        "id": "5QTWsAkk-MUE",
        "colab_type": "text"
      },
      "source": [
        "## Loading a checkpoint"
      ]
    },
    {
      "cell_type": "code",
      "metadata": {
        "id": "oY1o87Lk-MUF",
        "colab_type": "code",
        "colab": {
          "base_uri": "https://localhost:8080/",
          "height": 35
        },
        "outputId": "6eefd1d9-570f-4e42-df03-992b736ba45b"
      },
      "source": [
        "# Here we have loaded in a model that trained over 20 epochs `rnn_20_epoch.net`\n",
        "with open('rnn_x_epoch.net', 'rb') as f:\n",
        "    checkpoint = torch.load(f)\n",
        "    \n",
        "loaded = CharRNN(checkpoint['tokens'], n_hidden=checkpoint['n_hidden'], n_layers=checkpoint['n_layers'])\n",
        "loaded.load_state_dict(checkpoint['state_dict'])"
      ],
      "execution_count": 22,
      "outputs": [
        {
          "output_type": "execute_result",
          "data": {
            "text/plain": [
              "<All keys matched successfully>"
            ]
          },
          "metadata": {
            "tags": []
          },
          "execution_count": 22
        }
      ]
    },
    {
      "cell_type": "code",
      "metadata": {
        "id": "rVuk5uXn-MUI",
        "colab_type": "code",
        "colab": {
          "base_uri": "https://localhost:8080/",
          "height": 624
        },
        "outputId": "972b9ca3-193a-4399-9309-120c0d17137d"
      },
      "source": [
        "# Sample using a loaded model\n",
        "print(sample(loaded, 2000, top_k=5, prime=\"And Levin said\"))"
      ],
      "execution_count": 23,
      "outputs": [
        {
          "output_type": "stream",
          "text": [
            "And Levin said, as sooused him. And\n",
            "he said, and had to be and highere, who say to his hand. And would the some, stopped the peaparts\n",
            "that treater had been decinited in hard the sertial from, but\n",
            "strack a professoo to think in the countest's face, and\n",
            "that well were not it\n",
            "was in a stracked faculance of\n",
            "his feeling that he\n",
            "said, there was not at his wife, who was taken to his wife, she\n",
            "could not go out of her, and was no setter of the most\n",
            "crossed off the place. Taking her a differents of his face, and he could not tell him that he would have been, to him.\n",
            "\n",
            "Alexey Alexandrovitch heard the conceater of the\n",
            "succes in the convilication of his feeling with who had at the stick,\n",
            "and went out on the propes of the place to her that there cared to the mother works to be angulled the little cheek. Thought he had been doubt in\n",
            "out of hos fees at the somether\n",
            "to her feeling ov ono hee, but with a same.\n",
            "\n",
            "The\n",
            "convertation of the muster to seem that, that she were strangent the persan to her, the same to see her heart to the stopts, and was a friends of a minuth of the simple of\n",
            "the crassing the presence was not in the campered of this\n",
            "passion, to the\n",
            "minune and, steps and word toward to some how, and steps to talk to say to the\n",
            "reprose in the fame that he could not tell at his hand,. All the stair, which she was stiffed of her to the converianed there\n",
            "his bad, treet to a madthes and the coulf one\n",
            "shall set to the peasants were at a conden of the sont and the more answer, hooked over. Broad in something of homs, and he had been divining off of the sounsess, he had the monter of a soul to see in her soul of the stick and his seemed thing of the samorrigh, the mind thought, but were the\n",
            "moment when the children had not all the meary what she told him. But the some, at all a seere and straight that there was not begne of the position.\n",
            "He was all at\n",
            "her.\n",
            "\n",
            "\"I can to say, and see,\n",
            "the stall, as you as you to be such a came of happy.\n",
            "I want to more\n",
            "many and taking at out the convertation or to be,\" sa\n"
          ],
          "name": "stdout"
        }
      ]
    },
    {
      "cell_type": "code",
      "metadata": {
        "id": "HFMIaVVM-MUJ",
        "colab_type": "code",
        "colab": {}
      },
      "source": [
        ""
      ],
      "execution_count": 23,
      "outputs": []
    }
  ]
}